{
  "nbformat": 4,
  "nbformat_minor": 0,
  "metadata": {
    "kernelspec": {
      "display_name": "Python 3",
      "language": "python",
      "name": "python3"
    },
    "language_info": {
      "codemirror_mode": {
        "name": "ipython",
        "version": 3
      },
      "file_extension": ".py",
      "mimetype": "text/x-python",
      "name": "python",
      "nbconvert_exporter": "python",
      "pygments_lexer": "ipython3",
      "version": "3.7.4"
    },
    "colab": {
      "provenance": [],
      "include_colab_link": true
    }
  },
  "cells": [
    {
      "cell_type": "markdown",
      "metadata": {
        "id": "view-in-github",
        "colab_type": "text"
      },
      "source": [
        "<a href=\"https://colab.research.google.com/github/gabilopess9/IA/blob/main/IA_Projeto_N1.ipynb\" target=\"_parent\"><img src=\"https://colab.research.google.com/assets/colab-badge.svg\" alt=\"Open In Colab\"/></a>"
      ]
    },
    {
      "cell_type": "markdown",
      "metadata": {
        "id": "40b90843"
      },
      "source": [
        "<img src=\"http://meusite.mackenzie.br/rogerio/mackenzie_logo/UPM.2_horizontal_vermelho.jpg\"  width=300, align=\"right\">\n",
        "<br>\n",
        "<br>\n",
        "<br>\n",
        "<br>\n",
        "<br>\n",
        "\n",
        "# ***Título do seu projeto***\n",
        "---"
      ]
    },
    {
      "cell_type": "markdown",
      "source": [
        "O propósito deste trabalho é que você explore uma técnica, um *framework* ou problemas diferentes dos tratados em aula para que você possa conhecer e compartilhar com seus colegas recursos de IA além apresentados em sala. Desse modo os trabalhos devem, obrigatoriamente envolver uma das categorias abaixo.\n",
        "\n",
        "No caso de você ter interesse de submeter um problema de outra categoria, valide antes com o professor.\n",
        "\n",
        "*Siga esse template para entrega da **PROPOSTA DO SEU PROJETO**  compartilhando no Moodle seu notebook.* Note, neste momento, você precisa apenas entregar a Proposta, o projeto completo deverá ser entregue e apresentado na N2.\n"
      ],
      "metadata": {
        "id": "Ikv-pBzr9bNu"
      }
    },
    {
      "cell_type": "code",
      "metadata": {
        "id": "rYx9D4GZA5o9",
        "cellView": "form"
      },
      "source": [
        "#@title Identificação do Grupo\n",
        "\n",
        "#@markdown Turma \n",
        "Turma = '7G' #@param {type:\"string\"} \n",
        "\n",
        "#@markdown Integrantes do Grupo (*informe \\<TIA\\>,\\<nome\\>*) *em ordem alfabética*\n",
        "Aluno1 = '31744591, Gabriela Lopes' #@param {type:\"string\"} \n",
        "Aluno2 = 'None' #@param {type:\"string\"}\n",
        "Aluno3 = 'None' #@param {type:\"string\"}\n",
        "Aluno4 = 'None' #@param {type:\"string\"}\n",
        "Aluno5 = 'None' #@param {type:\"string\"}\n",
        "\n"
      ],
      "execution_count": null,
      "outputs": []
    },
    {
      "cell_type": "code",
      "source": [
        "#@title Categoria do Projeto\n",
        "Processamento_de_Linguagem_Natural= False #@param {type:\"boolean\"} \n",
        "Processamento_de_Imagem = True #@param {type:\"boolean\"}\n",
        "Processamento_de_Video = False #@param {type:\"boolean\"}\n",
        "Deteccao_Anomalia = False #@param {type:\"boolean\"}\n",
        "Outro = None #@param {type:\"string\"} \n",
        "#@markdown Para *outro* valide antes com o professor"
      ],
      "metadata": {
        "id": "WHSEcf21HH8n"
      },
      "execution_count": null,
      "outputs": []
    },
    {
      "cell_type": "markdown",
      "metadata": {
        "id": "A4-f8AtfKAn2"
      },
      "source": [
        "# Apresentação do Trabalho\n",
        "\n",
        "O trabalho consistira em detectar erros no processamento de produções de pão de queijo em relação a sua gramatura, uma vez que o fornecedor compra a massa por kilo, mas vende os pães de queijo por bolinhas. Se comprar 1kg e render 80 bolinhas, sairá no prejuizo caso o esperado seja vender 100 bolinhas com esse mesmo 1kg. Precisamos detectar se todas as bolinhas estão sendo produzidas no mesmo tamanho esperado."
      ]
    },
    {
      "cell_type": "markdown",
      "metadata": {
        "id": "_fBLrFU5Dawl"
      },
      "source": [
        "# Justificativa\n",
        "\n",
        "*Apresente por que o seu trabalho é de interesse. É um tema atual? Tem algum impacto relevante?* (máx 10 linhas)"
      ]
    },
    {
      "cell_type": "code",
      "source": [
        "#@markdown Escolha as alternativas que julgar necessário:\n",
        "Tema_Atual = False #@param {type:\"boolean\"}\n",
        "Impacto_Social_Ambiental = False #@param {type:\"boolean\"}\n",
        "Caso_Real_Proprio = True #@param {type:\"boolean\"}\n",
        "Inovacao = False #@param {type:\"boolean\"}\n",
        "Novos_Paradigmas_de_IA = False #@param {type:\"boolean\"}\n",
        "Aplicacao_Pratica = False #@param {type:\"boolean\"}\n",
        "Tecnica_recente_de_IA = False #@param {type:\"boolean\"}\n",
        "Nenhum_Acima = False #@param {type:\"boolean\"}"
      ],
      "metadata": {
        "cellView": "form",
        "id": "9gW6E7UfE9tl"
      },
      "execution_count": null,
      "outputs": []
    },
    {
      "cell_type": "markdown",
      "source": [
        "# Referencial Teórico\n",
        "\n",
        "*Apresente aqui referências que pretende empregar. Cite livros, artigos, links internet.* "
      ],
      "metadata": {
        "id": "7LtXrRFr4hg3"
      }
    },
    {
      "cell_type": "code",
      "source": [
        "#@markdown Escolha as alternativas que julgar necessário:\n",
        "Livro = False #@param {type:\"boolean\"}\n",
        "Artigo = True #@param {type:\"boolean\"}\n",
        "Internet = True #@param {type:\"boolean\"}\n",
        "Modelo_ou_Tutorial_de_implementacao = False #@param {type:\"boolean\"}\n",
        "Nenhum_Acima = False #@param {type:\"boolean\"}"
      ],
      "metadata": {
        "cellView": "form",
        "id": "uBuA4cpzF87s"
      },
      "execution_count": null,
      "outputs": []
    },
    {
      "cell_type": "markdown",
      "metadata": {
        "id": "prwBHmH4pbsp"
      },
      "source": [
        "# Diferencial\n",
        "\n",
        "*Qual o diferencial do seu projeto com relação às referências e modelos empregados?* (máx 5 linhas)"
      ]
    },
    {
      "cell_type": "code",
      "source": [
        "#@markdown Escolha as alternativas que julgar necessário:\n",
        "Quantitativo = False #@param {type:\"boolean\"}\n",
        "Base_de_dados_propria = False #@param {type:\"boolean\"}\n",
        "Aplicacao_original_da_tecnica = False #@param {type:\"boolean\"}\n",
        "Mudanca_do_modelo_original = True #@param {type:\"boolean\"}\n",
        "Nenhum_Acima = False #@param {type:\"boolean\"}"
      ],
      "metadata": {
        "cellView": "form",
        "id": "Hj-sfpozpbsx"
      },
      "execution_count": null,
      "outputs": []
    },
    {
      "cell_type": "markdown",
      "metadata": {
        "id": "xGFJyOm1Kdtd"
      },
      "source": [
        "# Base de Dados \n",
        "\n",
        "*Descreva aqui os dados que serão utilizados e indique a fonte.* \n",
        "\n",
        "\n",
        "\n"
      ]
    },
    {
      "cell_type": "code",
      "source": [
        "#@markdown Escolha as alternativas que julgar necessário:\n",
        "\n",
        "#@markdown > Fonte \n",
        "Base_Propria_Original = False #@param {type:\"boolean\"}\n",
        "Base_Publica_Tratada = True #@param {type:\"boolean\"}\n",
        "Base_Kaggle_Similares = False #@param {type:\"boolean\"}\n",
        "Nenhum_Acima = False #@param {type:\"boolean\"}\n",
        "#@markdown > Volume\n",
        "Base_Dados_KB = False #@param {type:\"boolean\"}\n",
        "Base_Dados_MB = True #@param {type:\"boolean\"}\n",
        "Base_Dados_GB = False #@param {type:\"boolean\"}\n",
        "\n"
      ],
      "metadata": {
        "cellView": "form",
        "id": "PAlLGC5JGLzt"
      },
      "execution_count": null,
      "outputs": []
    },
    {
      "cell_type": "markdown",
      "metadata": {
        "id": "c8-GAboQLMaN"
      },
      "source": [
        "# Metodologia  \n",
        "\n",
        "*Descreva que frameworks ou ferramentas pretende empregar.*\n"
      ]
    },
    {
      "cell_type": "code",
      "source": [
        "#@markdown Escolha as alternativas que julgar necessário:\n",
        "\n",
        "Scikit_learn = True #@param {type:\"boolean\"}\n",
        "TensorFlow = False #@param {type:\"boolean\"}\n",
        "PyTorch = False #@param {type:\"boolean\"}\n",
        "Yolo = True #@param {type:\"boolean\"}\n",
        "Bart = False #@param {type:\"boolean\"}\n",
        "NLKT = False #@param {type:\"boolean\"}\n",
        "Outros = None #@param {type:\"string\"} \n",
        "\n"
      ],
      "metadata": {
        "cellView": "form",
        "id": "2HG1xH6mIxY_"
      },
      "execution_count": null,
      "outputs": []
    },
    {
      "cell_type": "code",
      "metadata": {
        "id": "BluFtfHuCGzm",
        "cellView": "form"
      },
      "source": [
        "#@title Avaliação\n",
        "Completo = 0 #@param {type:\"slider\", min:0, max:10, step:1}\n",
        "#@markdown Cumpre todos os itens pedidos. \n",
        "Relevancia = 0 #@param {type:\"slider\", min:0, max:10, step:1}\n",
        "#@markdown Problema relevante e justificado. \n",
        "Tecnicas = 0 #@param {type:\"slider\", min:0, max:10, step:1}\n",
        "#@markdown Técnicas propostas adequadas.\n",
        "Apresentacao = 0 #@param {type:\"slider\", min:0, max:10, step:1}\n",
        "#@markdown Apresentação clara e objetiva.\n",
        "Analise = 0 #@param {type:\"slider\", min:0, max:10, step:1}\n",
        "#@markdown Análise Geral. \n",
        "Conclusao = 0 #@param {type:\"slider\", min:0, max:10, step:1}\n",
        "#@markdown Conclusão.\n",
        "Bonus = 0 #@param {type:\"slider\", min:0, max:1, step:0.5}\n",
        "#@markdown A critério do professor por inovações na abordagem.\n",
        "\n",
        "\n",
        "\n",
        "\n",
        "\n"
      ],
      "execution_count": null,
      "outputs": []
    },
    {
      "cell_type": "code",
      "metadata": {
        "id": "2Gqw7hUZHyle"
      },
      "source": [
        "#@markdown ### Nota Final\n",
        "nota = Completo + Relevancia + Tecnicas + Apresentacao + Analise + Conclusao \n",
        "\n",
        "nota = nota / 6 + Bonus\n",
        "\n",
        "print(f'Nota final do trabalho {nota :.1f}')\n",
        "\n",
        "import numpy as np\n",
        "import pandas as pd\n",
        "\n",
        "alunos = pd.DataFrame()\n",
        "\n",
        "lista_tia = []\n",
        "lista_nome = []\n",
        "\n",
        "for i in range(1,6):\n",
        "  exec(\"if Aluno\" + str(i) + \" !='None':  lista = Aluno\" + str(i) + \".split(','); lista_tia.append(lista[0]); lista_nome.append(lista[1].upper())\")\n",
        "\n",
        "alunos['tia'] = lista_tia\n",
        "alunos['nome'] = lista_nome\n",
        "alunos['nota'] = np.round(nota,1)\n",
        "print()\n",
        "alunos"
      ],
      "execution_count": null,
      "outputs": []
    }
  ]
}